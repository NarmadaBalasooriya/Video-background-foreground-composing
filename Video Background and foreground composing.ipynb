{
  "cells": [
    {
      "cell_type": "markdown",
      "metadata": {
        "id": "view-in-github",
        "colab_type": "text"
      },
      "source": [
        "<a href=\"https://colab.research.google.com/github/NarmadaBalasooriya/Video-background-foreground-composing/blob/main/Video%20Background%20and%20foreground%20composing.ipynb\" target=\"_parent\"><img src=\"https://colab.research.google.com/assets/colab-badge.svg\" alt=\"Open In Colab\"/></a>"
      ]
    },
    {
      "cell_type": "markdown",
      "metadata": {
        "id": "HRgkGpUH05eu"
      },
      "source": [
        "### Change the working directory"
      ]
    },
    {
      "cell_type": "markdown",
      "metadata": {
        "id": "FSL2ID67ORYT"
      },
      "source": [
        "Change this according to the VM"
      ]
    },
    {
      "cell_type": "code",
      "execution_count": null,
      "metadata": {
        "id": "3y6GNHd80VFp"
      },
      "outputs": [],
      "source": [
        "%cd \"Path to your Google Driver Location\""
      ]
    },
    {
      "cell_type": "markdown",
      "metadata": {
        "id": "9dQIJ-Dy0DCe"
      },
      "source": [
        "### Import the rquired libraries"
      ]
    },
    {
      "cell_type": "code",
      "execution_count": null,
      "metadata": {
        "colab": {
          "base_uri": "https://localhost:8080/"
        },
        "id": "h_sRyEoD6hMs",
        "outputId": "45f13cd0-6c92-49ae-997d-e39bd74e256c"
      },
      "outputs": [
        {
          "output_type": "stream",
          "name": "stdout",
          "text": [
            "Collecting scikit-video\n",
            "  Downloading scikit_video-1.1.11-py2.py3-none-any.whl (2.3 MB)\n",
            "\u001b[K     |████████████████████████████████| 2.3 MB 8.5 MB/s \n",
            "\u001b[?25hRequirement already satisfied: pillow in /usr/local/lib/python3.7/dist-packages (from scikit-video) (7.1.2)\n",
            "Requirement already satisfied: scipy in /usr/local/lib/python3.7/dist-packages (from scikit-video) (1.4.1)\n",
            "Requirement already satisfied: numpy in /usr/local/lib/python3.7/dist-packages (from scikit-video) (1.19.5)\n",
            "Installing collected packages: scikit-video\n",
            "Successfully installed scikit-video-1.1.11\n"
          ]
        }
      ],
      "source": [
        "!pip install scikit-video"
      ]
    },
    {
      "cell_type": "markdown",
      "metadata": {
        "id": "2djfkEnUObLP"
      },
      "source": [
        "**Required**"
      ]
    },
    {
      "cell_type": "code",
      "execution_count": null,
      "metadata": {
        "id": "AuRoElXvnQL2",
        "colab": {
          "base_uri": "https://localhost:8080/"
        },
        "outputId": "ca7bbdb1-7401-42ba-f41f-5de6d5e3bdfb"
      },
      "outputs": [
        {
          "output_type": "stream",
          "name": "stdout",
          "text": [
            "Imageio: 'ffmpeg-linux64-v3.3.1' was not found on your computer; downloading it now.\n",
            "Try 1. Download from https://github.com/imageio/imageio-binaries/raw/master/ffmpeg/ffmpeg-linux64-v3.3.1 (43.8 MB)\n",
            "Downloading: 8192/45929032 bytes (0.0%)\b\b\b\b\b\b\b\b\b\b\b\b\b\b\b\b\b\b\b\b\b\b\b\b\b\b2924544/45929032 bytes (6.4%)\b\b\b\b\b\b\b\b\b\b\b\b\b\b\b\b\b\b\b\b\b\b\b\b\b\b\b\b\b6496256/45929032 bytes (14.1%)\b\b\b\b\b\b\b\b\b\b\b\b\b\b\b\b\b\b\b\b\b\b\b\b\b\b\b\b\b\b10018816/45929032 bytes (21.8%)\b\b\b\b\b\b\b\b\b\b\b\b\b\b\b\b\b\b\b\b\b\b\b\b\b\b\b\b\b\b\b13492224/45929032 bytes (29.4%)\b\b\b\b\b\b\b\b\b\b\b\b\b\b\b\b\b\b\b\b\b\b\b\b\b\b\b\b\b\b\b16801792/45929032 bytes (36.6%)\b\b\b\b\b\b\b\b\b\b\b\b\b\b\b\b\b\b\b\b\b\b\b\b\b\b\b\b\b\b\b20299776/45929032 bytes (44.2%)\b\b\b\b\b\b\b\b\b\b\b\b\b\b\b\b\b\b\b\b\b\b\b\b\b\b\b\b\b\b\b23748608/45929032 bytes (51.7%)\b\b\b\b\b\b\b\b\b\b\b\b\b\b\b\b\b\b\b\b\b\b\b\b\b\b\b\b\b\b\b27230208/45929032 bytes (59.3%)\b\b\b\b\b\b\b\b\b\b\b\b\b\b\b\b\b\b\b\b\b\b\b\b\b\b\b\b\b\b\b30736384/45929032 bytes (66.9%)\b\b\b\b\b\b\b\b\b\b\b\b\b\b\b\b\b\b\b\b\b\b\b\b\b\b\b\b\b\b\b34275328/45929032 bytes (74.6%)\b\b\b\b\b\b\b\b\b\b\b\b\b\b\b\b\b\b\b\b\b\b\b\b\b\b\b\b\b\b\b37576704/45929032 bytes (81.8%)\b\b\b\b\b\b\b\b\b\b\b\b\b\b\b\b\b\b\b\b\b\b\b\b\b\b\b\b\b\b\b41132032/45929032 bytes (89.6%)\b\b\b\b\b\b\b\b\b\b\b\b\b\b\b\b\b\b\b\b\b\b\b\b\b\b\b\b\b\b\b44630016/45929032 bytes (97.2%)\b\b\b\b\b\b\b\b\b\b\b\b\b\b\b\b\b\b\b\b\b\b\b\b\b\b\b\b\b\b\b45929032/45929032 bytes (100.0%)\n",
            "  Done\n",
            "File saved as /root/.imageio/ffmpeg/ffmpeg-linux64-v3.3.1.\n"
          ]
        }
      ],
      "source": [
        "#!/usr/bin/env python3\n",
        "import cv2\n",
        "import numpy as np\n",
        "from moviepy.editor import *\n",
        "import matplotlib.pyplot as plt\n",
        "import skvideo.io  \n",
        "import skimage.exposure\n",
        "from skimage import morphology\n",
        "from PIL import Image, ImageFilter, ImageOps, ImageChops"
      ]
    },
    {
      "cell_type": "markdown",
      "metadata": {
        "id": "hlsEm3Da1Afi"
      },
      "source": [
        "### Functions to compose the videos frame by frame"
      ]
    },
    {
      "cell_type": "markdown",
      "metadata": {
        "id": "7YpJstdK2AXn"
      },
      "source": [
        "#### Function 1 - compose_video"
      ]
    },
    {
      "cell_type": "code",
      "execution_count": null,
      "metadata": {
        "id": "kJ_QY_Fe2DyU"
      },
      "outputs": [],
      "source": [
        "def compose_video(fore_fr, mask_fr, back_fr, pos_x, pos_y, disp):\n",
        "    \n",
        "  mask_h = mask_fr.shape[0]\n",
        "  mask_w = mask_fr.shape[1]\n",
        "\n",
        "  back_final = back_fr.copy()\n",
        "\n",
        "  # Check for the sizes to avoid errors\n",
        "  if(pos_x + mask_w)>back_fr.shape[1] and (pos_y + mask_h)>back_fr.shape[0]:\n",
        "      raise ValueError(\"Error in positioning. Try repositioning\")\n",
        "  \n",
        "  # Get the ROI of the background for the mask positioning\n",
        "  bg_for_mask = back_fr[pos_y:pos_y+mask_h, pos_x:pos_x+mask_w, :]\n",
        "  \n",
        "  # black and white pixel interchange\n",
        "  mask_inv = cv2.bitwise_not(mask_fr)\n",
        "  # Thresholding the pixel values to binary where 255 is equivalent to 1 in\n",
        "  # uint8 datatype\n",
        "  #mask_thresh = cv2.threshold(mask_inv, 127, 255, cv2.THRESH_BINARY)[1]\n",
        "  mask_thresh = mask_inv\n",
        "\n",
        "  # Morphological close and dilate to fill the gaps\n",
        "  kernel = np.ones((3,3), np.uint8)\n",
        "  mask_C = cv2.morphologyEx(mask_thresh, cv2.MORPH_CLOSE, kernel)\n",
        "  mask_D = cv2.dilate(mask_C, kernel)\n",
        "\n",
        "  # Convert white pixels to transparent\n",
        "  mask_frn = cv2.cvtColor(mask_D, cv2.COLOR_RGB2RGBA)\n",
        "\n",
        "  white = np.sum(mask_frn[:,:,:3], axis=2)\n",
        "  white_mask = np.where(white == 255*3, 1, 0)\n",
        "  alpha = np.where(white_mask, 0, mask_frn[:,:,-1])\n",
        "\n",
        "  mask_frn[:,:,-1] = alpha \n",
        "\n",
        "  # Convert the mask to PIL image to be used for PIL composite function\n",
        "  mask_pil = Image.fromarray(mask_frn)\n",
        "  \n",
        "  # Convert the background and foreground frames to PIL Image\n",
        "  back_pil = Image.fromarray(bg_for_mask)\n",
        "  fore_pil = Image.fromarray(fore_fr)\n",
        "\n",
        "  # Apply PIL Image composite to foreground and background with the mask\n",
        "  dst_pil = Image.composite(fore_pil, back_pil, mask_pil)\n",
        "  \n",
        "  # Convert the composed frame to numpy\n",
        "  dst_np = np.asarray(dst_pil)\n",
        "\n",
        "  # Restore the composed ROI into the original frame\n",
        "  back_final[pos_y:pos_y+mask_h, pos_x:pos_x+mask_w, :] = dst_np\n",
        "\n",
        "  # Display the intermediate results\n",
        "  if(disp):\n",
        "    f, axarr = plt.subplots(6,2, figsize=(40, 100))\n",
        "    #plt.axis('off')\n",
        "\n",
        "    # foreground frame\n",
        "    axarr[0,0].set_title('Foreground frame', fontsize=20)\n",
        "    axarr[0,0].imshow(fore_pil)\n",
        "    axarr[0,0].axis('off')\n",
        "    \n",
        "    # mask frame after gaussian blur\n",
        "    axarr[0,1].set_title('Mask frame', fontsize=20)\n",
        "    axarr[0,1].imshow(mask_fr)\n",
        "    axarr[0,1].axis('off')\n",
        "\n",
        "    # background frame\n",
        "    axarr[1,0].set_title('Background frame', fontsize=20)\n",
        "    axarr[1,0].imshow(back_fr)\n",
        "    axarr[1,0].axis('off')\n",
        "\n",
        "    # ROI from the background frame\n",
        "    axarr[1,1].set_title('ROI from the background frame', fontsize=20)\n",
        "    axarr[1,1].imshow(back_pil)\n",
        "    axarr[1,1].axis('off')\n",
        "\n",
        "    # inverse mask\n",
        "    axarr[2,0].set_title('Inverse of the mask', fontsize=20)\n",
        "    axarr[2,0].imshow(mask_inv)\n",
        "    axarr[2,0].axis('off')\n",
        "\n",
        "    # threshold on inverse mask\n",
        "    axarr[2,1].set_title('Thresholded inverse mask', fontsize=20)\n",
        "    axarr[2,1].imshow(mask_thresh) \n",
        "    axarr[2,1].axis('off')\n",
        "\n",
        "    # Morphological Close on mask\n",
        "    axarr[3,0].set_title('Morphological close on mask', fontsize=20)\n",
        "    axarr[3,0].imshow(mask_C)\n",
        "    axarr[3,0].axis('off')\n",
        "\n",
        "    # Dilate on mask\n",
        "    axarr[3,1].set_title('Dilate on mask', fontsize=20)\n",
        "    axarr[3,1].imshow(mask_D)\n",
        "    axarr[3,1].axis('off')\n",
        "\n",
        "    # Convert white pixels to transparent\n",
        "    axarr[4,0].set_title('White pixels to transparent', fontsize=20)\n",
        "    axarr[4,0].imshow(mask_pil)\n",
        "    axarr[4,0].axis('off')\n",
        "\n",
        "    # PIL image composite function\n",
        "    axarr[4,1].set_title('PIL Image Composite', fontsize=20)\n",
        "    axarr[4,1].imshow(dst_pil)\n",
        "    axarr[4,1].axis('off')\n",
        "\n",
        "    # display the full composed frame \n",
        "    axarr[5,0].set_title('Full frame display', fontsize=20)\n",
        "    axarr[5,0].imshow(back_final)\n",
        "    axarr[5,0].axis('off')      \n",
        "\n",
        "  return back_final\n"
      ]
    },
    {
      "cell_type": "markdown",
      "metadata": {
        "id": "Qn6XY-qvgyOA"
      },
      "source": [
        "#### Function 2 - compose_video_v2"
      ]
    },
    {
      "cell_type": "code",
      "execution_count": null,
      "metadata": {
        "id": "-_NQV_Gsg1FO"
      },
      "outputs": [],
      "source": [
        "def compose_video_v2(fore_fr, mask_fr, back_fr, pos_x, pos_y, box):\n",
        "\n",
        "  # mask shape\n",
        "  mask_h = mask_fr.shape[0]\n",
        "  mask_w = mask_fr.shape[1]\n",
        "\n",
        "  # Check for the sizes to avoid errors\n",
        "  if(pos_x + mask_w)>back_fr.shape[1] and (pos_y + mask_h)>back_fr.shape[0]:\n",
        "      raise ValueError(\"Error in positioning. Try repositioning\")\n",
        "  \n",
        "  # Get the ROI of the background for the mask positioning\n",
        "  back_cr1 = back_fr[pos_y:pos_y+mask_h, pos_x:pos_x+mask_w, :]\n",
        "\n",
        "  kernal = np.ones((3,3), np.uint8)\n",
        "  mask_fr = cv2.erode(mask_fr, kernal, iterations=3)\n",
        "  mask_fr2 = mask_fr.astype(np.float32)/255.0  \n",
        "  back_final = (fore_fr*mask_fr2)+(back_cr1*(1-mask_fr2))\n",
        "\n",
        "  return back_final"
      ]
    },
    {
      "cell_type": "markdown",
      "metadata": {
        "id": "jzJe2RHQ50m6"
      },
      "source": [
        "### Video Composition"
      ]
    },
    {
      "cell_type": "markdown",
      "metadata": {
        "id": "4uU_GtQ_4aKF"
      },
      "source": [
        "#### Loading video files"
      ]
    },
    {
      "cell_type": "code",
      "execution_count": null,
      "metadata": {
        "colab": {
          "base_uri": "https://localhost:8080/"
        },
        "id": "NJj89r3N4eS1",
        "outputId": "cd2689b6-aa93-42ea-8a6a-229e2c3a2161"
      },
      "outputs": [
        {
          "output_type": "stream",
          "name": "stdout",
          "text": [
            "Loaded the video files\n"
          ]
        }
      ],
      "source": [
        "fore_f = 'path to foreground video'\n",
        "mask_f = 'path to mask of foreground video'\n",
        "back_f = 'path to desired background video'\n",
        "\n",
        "fore = VideoFileClip(fore_f)\n",
        "mask = VideoFileClip(mask_f)\n",
        "back = VideoFileClip(back_f)\n",
        "\n",
        "print(\"Loaded the video files\")"
      ]
    },
    {
      "cell_type": "markdown",
      "metadata": {
        "id": "6uzgrAvE45n-"
      },
      "source": [
        "#### Variables from the Video files"
      ]
    },
    {
      "cell_type": "code",
      "execution_count": null,
      "metadata": {
        "colab": {
          "base_uri": "https://localhost:8080/"
        },
        "id": "bN9sk_Dp49t1",
        "outputId": "9340699f-e966-42f8-e348-3f282fb336b4"
      },
      "outputs": [
        {
          "output_type": "stream",
          "name": "stdout",
          "text": [
            "Frame rates mismatching; setting the frame rate to the background\n"
          ]
        }
      ],
      "source": [
        "# Video sizes\n",
        "fore_w, fore_h = fore.size\n",
        "mask_w, mask_h = mask.size\n",
        "back_w, back_h = back.size\n",
        "\n",
        "# Making the fps rate in foreground and mask as same as the bg\n",
        "if (fore.fps!=back.fps or mask.fps!=back.fps):\n",
        "  print(\"Frame rates mismatching; setting the frame rate to the background\")\n",
        "  fore = fore.set_fps(back.fps)\n",
        "  mask = mask.set_fps(back.fps)\n",
        "\n",
        "# if (fore_w!=back_w and fore_h!=back_h) or (mask_w!=back_w and mask_h!=back_h):\n",
        "#   print(\"Foreground(&mask) video height and width are larger than the background video\")\n",
        "#   fore = fore.resize(height=back_h)\n",
        "#   mask = mask.resize(height=back_h)\n",
        "#   print(\"New height and width: \", fore.size)\n",
        "\n",
        "#Get the fps of the video files\n",
        "fore_fps = fore.fps\n",
        "mask_fps = mask.fps\n",
        "back_fps = back.fps\n",
        "\n",
        "# Get the video durations\n",
        "fore_t = fore.duration\n",
        "mask_t = mask.duration\n",
        "back_t = back.duration\n",
        "\n",
        "# Calculate the number of frames of the videos\n",
        "fore_nf = int(fore_fps * fore_t)\n",
        "mask_nf = int(mask_fps * mask_t)\n",
        "back_nf = int(back_fps * back_t)\n",
        "\n",
        "# get the start and end frames of the bg video using the start time input\n",
        "start_t = 0\n",
        "start_bg_frame = int(back_fps * start_t)\n",
        "end_bg_frame = int(start_bg_frame + mask_nf)\n",
        "end_t = int(start_t + mask_t)\n",
        "\n",
        "# Clip the background video for the duration\n",
        "# Clip the foreground video to set for the mask video duration\n",
        "back_vid = back.subclip(start_t, end_t)\n",
        "fore_vid = fore.subclip(0, mask_t)"
      ]
    },
    {
      "cell_type": "markdown",
      "metadata": {
        "id": "KMQag9095EhJ"
      },
      "source": [
        "#### Calling the function for each frame"
      ]
    },
    {
      "cell_type": "code",
      "execution_count": null,
      "metadata": {
        "id": "S_eFc1Cw5K-d"
      },
      "outputs": [],
      "source": [
        "# Initialization of variables\n",
        "i = 0\n",
        "composed_clip = []\n",
        "disp = False\n",
        "disp_frame = 0\n",
        "kernel = np.ones((3,3), np.uint8)\n",
        "\n",
        "# positions\n",
        "pos_x = 100\n",
        "pos_y = 0\n",
        "\n",
        "for fore_fr, mask_fr, back_fr in zip(fore_vid.iter_frames(), mask.iter_frames(), back_vid.iter_frames()):\n",
        "    \n",
        "  disp = False\n",
        "\n",
        "  new_fr = compose_video_v2(fore_fr, mask_fr, back_fr, pos_x, pos_y, disp)\n",
        "  back_fr[pos_y:pos_y+mask_h, pos_x:pos_x+mask_w, :] = new_fr\n",
        "\n",
        "  composed_clip.append(back_fr)\n",
        "  i += 1\n",
        "  \n"
      ]
    },
    {
      "cell_type": "markdown",
      "metadata": {
        "id": "h3E0raF-5xCl"
      },
      "source": [
        "#### Convert the frames array to video and display"
      ]
    },
    {
      "cell_type": "code",
      "execution_count": null,
      "metadata": {
        "id": "LN5cCXc66CTE"
      },
      "outputs": [],
      "source": [
        "composed_video = 0\n",
        "composed_video = ImageSequenceClip(composed_clip, fps=24)\n",
        "composed_video.ipython_display(width=780)"
      ]
    },
    {
      "cell_type": "markdown",
      "metadata": {
        "id": "SRu9IpOa6Gk0"
      },
      "source": [
        "#### Save the composed video"
      ]
    },
    {
      "cell_type": "code",
      "execution_count": null,
      "metadata": {
        "id": "6kjmJO5D6bs4"
      },
      "outputs": [],
      "source": [
        "fore_file_name = os.path.basename(fore_f)\n",
        "fore_file_name = os.path.splitext(fore_file_name)[0]\n",
        "\n",
        "composed_video_name = os.path.join('./composed_video',fore_file_name + '_composed.mp4')\n",
        "composed_video.write_videofile(composed_video_name)"
      ]
    }
  ],
  "metadata": {
    "colab": {
      "collapsed_sections": [
        "HRgkGpUH05eu",
        "9dQIJ-Dy0DCe",
        "7YpJstdK2AXn",
        "4uU_GtQ_4aKF",
        "6uzgrAvE45n-"
      ],
      "provenance": [],
      "include_colab_link": true
    },
    "kernelspec": {
      "display_name": "Python 3",
      "name": "python3"
    },
    "language_info": {
      "name": "python"
    }
  },
  "nbformat": 4,
  "nbformat_minor": 0
}